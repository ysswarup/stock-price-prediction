{
 "cells": [
  {
   "cell_type": "markdown",
   "metadata": {},
   "source": [
    "# DS-INTERN-TESLA STOCK PRICE PREDICTION"
   ]
  },
  {
   "cell_type": "markdown",
   "metadata": {},
   "source": [
    "### Y SANTHI SWARUP\n",
    "   ### ysswarup18@gmail.com"
   ]
  },
  {
   "cell_type": "markdown",
   "metadata": {},
   "source": [
    "### Importing Required Libraries"
   ]
  },
  {
   "cell_type": "code",
   "execution_count": 1,
   "metadata": {},
   "outputs": [],
   "source": [
    "import numpy as np\n",
    "import pandas as pd\n",
    "import matplotlib.pyplot as plt\n",
    "import seaborn as sns\n",
    "%matplotlib inline\n",
    "import datetime\n",
    "\n",
    "import warnings\n",
    "warnings.filterwarnings('ignore')\n"
   ]
  },
  {
   "cell_type": "code",
   "execution_count": 2,
   "metadata": {},
   "outputs": [
    {
     "data": {
      "text/html": [
       "<div>\n",
       "<style scoped>\n",
       "    .dataframe tbody tr th:only-of-type {\n",
       "        vertical-align: middle;\n",
       "    }\n",
       "\n",
       "    .dataframe tbody tr th {\n",
       "        vertical-align: top;\n",
       "    }\n",
       "\n",
       "    .dataframe thead th {\n",
       "        text-align: right;\n",
       "    }\n",
       "</style>\n",
       "<table border=\"1\" class=\"dataframe\">\n",
       "  <thead>\n",
       "    <tr style=\"text-align: right;\">\n",
       "      <th></th>\n",
       "      <th>Close/Last</th>\n",
       "      <th>Volume</th>\n",
       "      <th>Open</th>\n",
       "      <th>High</th>\n",
       "      <th>Low</th>\n",
       "    </tr>\n",
       "    <tr>\n",
       "      <th>Date</th>\n",
       "      <th></th>\n",
       "      <th></th>\n",
       "      <th></th>\n",
       "      <th></th>\n",
       "      <th></th>\n",
       "    </tr>\n",
       "  </thead>\n",
       "  <tbody>\n",
       "    <tr>\n",
       "      <th>2021-06-09</th>\n",
       "      <td>$598.78</td>\n",
       "      <td>16584570</td>\n",
       "      <td>$602.17</td>\n",
       "      <td>$611.79</td>\n",
       "      <td>$597.6301</td>\n",
       "    </tr>\n",
       "    <tr>\n",
       "      <th>2021-06-08</th>\n",
       "      <td>$603.59</td>\n",
       "      <td>26053410</td>\n",
       "      <td>$623.01</td>\n",
       "      <td>$623.09</td>\n",
       "      <td>$595.5</td>\n",
       "    </tr>\n",
       "    <tr>\n",
       "      <th>2021-06-07</th>\n",
       "      <td>$605.13</td>\n",
       "      <td>22543680</td>\n",
       "      <td>$591.825</td>\n",
       "      <td>$610</td>\n",
       "      <td>$582.88</td>\n",
       "    </tr>\n",
       "    <tr>\n",
       "      <th>2021-06-04</th>\n",
       "      <td>$599.05</td>\n",
       "      <td>24036900</td>\n",
       "      <td>$579.71</td>\n",
       "      <td>$600.61</td>\n",
       "      <td>$577.2</td>\n",
       "    </tr>\n",
       "    <tr>\n",
       "      <th>2021-06-03</th>\n",
       "      <td>$572.84</td>\n",
       "      <td>30111890</td>\n",
       "      <td>$601.8</td>\n",
       "      <td>$604.55</td>\n",
       "      <td>$571.22</td>\n",
       "    </tr>\n",
       "  </tbody>\n",
       "</table>\n",
       "</div>"
      ],
      "text/plain": [
       "           Close/Last    Volume      Open     High        Low\n",
       "Date                                                         \n",
       "2021-06-09    $598.78  16584570   $602.17  $611.79  $597.6301\n",
       "2021-06-08    $603.59  26053410   $623.01  $623.09     $595.5\n",
       "2021-06-07    $605.13  22543680  $591.825     $610    $582.88\n",
       "2021-06-04    $599.05  24036900   $579.71  $600.61     $577.2\n",
       "2021-06-03    $572.84  30111890    $601.8  $604.55    $571.22"
      ]
     },
     "execution_count": 2,
     "metadata": {},
     "output_type": "execute_result"
    }
   ],
   "source": [
    "df = pd.read_csv('HistoricalData_TSLA.csv',parse_dates = [\"Date\"], index_col = \"Date\")\n",
    "df.head()"
   ]
  },
  {
   "cell_type": "code",
   "execution_count": 3,
   "metadata": {},
   "outputs": [
    {
     "data": {
      "text/plain": [
       "Close/Last    0\n",
       "Volume        0\n",
       "Open          0\n",
       "High          0\n",
       "Low           0\n",
       "dtype: int64"
      ]
     },
     "execution_count": 3,
     "metadata": {},
     "output_type": "execute_result"
    }
   ],
   "source": [
    "df.isnull().sum()"
   ]
  },
  {
   "cell_type": "code",
   "execution_count": 4,
   "metadata": {},
   "outputs": [
    {
     "data": {
      "text/plain": [
       "0"
      ]
     },
     "execution_count": 4,
     "metadata": {},
     "output_type": "execute_result"
    }
   ],
   "source": [
    "sum(df.duplicated())"
   ]
  },
  {
   "cell_type": "code",
   "execution_count": 5,
   "metadata": {},
   "outputs": [
    {
     "data": {
      "text/plain": [
       "2516"
      ]
     },
     "execution_count": 5,
     "metadata": {},
     "output_type": "execute_result"
    }
   ],
   "source": [
    "len(df)"
   ]
  },
  {
   "cell_type": "code",
   "execution_count": 6,
   "metadata": {},
   "outputs": [
    {
     "name": "stdout",
     "output_type": "stream",
     "text": [
      "<class 'pandas.core.frame.DataFrame'>\n",
      "DatetimeIndex: 2516 entries, 2021-06-09 to 2011-06-10\n",
      "Data columns (total 5 columns):\n",
      " #   Column      Non-Null Count  Dtype \n",
      "---  ------      --------------  ----- \n",
      " 0   Close/Last  2516 non-null   object\n",
      " 1   Volume      2516 non-null   int64 \n",
      " 2   Open        2516 non-null   object\n",
      " 3   High        2516 non-null   object\n",
      " 4   Low         2516 non-null   object\n",
      "dtypes: int64(1), object(4)\n",
      "memory usage: 117.9+ KB\n"
     ]
    }
   ],
   "source": [
    "df.info()"
   ]
  },
  {
   "cell_type": "code",
   "execution_count": 7,
   "metadata": {},
   "outputs": [],
   "source": [
    "df['Open']=df['Open'].str.replace('$','').astype(float)"
   ]
  },
  {
   "cell_type": "code",
   "execution_count": 8,
   "metadata": {},
   "outputs": [],
   "source": [
    "df['Close/Last']=df['Close/Last'].str.replace('$','').astype(float)"
   ]
  },
  {
   "cell_type": "code",
   "execution_count": 9,
   "metadata": {},
   "outputs": [],
   "source": [
    "df['High']=df['High'].str.replace('$','').astype(float)"
   ]
  },
  {
   "cell_type": "code",
   "execution_count": 10,
   "metadata": {},
   "outputs": [
    {
     "data": {
      "text/html": [
       "<div>\n",
       "<style scoped>\n",
       "    .dataframe tbody tr th:only-of-type {\n",
       "        vertical-align: middle;\n",
       "    }\n",
       "\n",
       "    .dataframe tbody tr th {\n",
       "        vertical-align: top;\n",
       "    }\n",
       "\n",
       "    .dataframe thead th {\n",
       "        text-align: right;\n",
       "    }\n",
       "</style>\n",
       "<table border=\"1\" class=\"dataframe\">\n",
       "  <thead>\n",
       "    <tr style=\"text-align: right;\">\n",
       "      <th></th>\n",
       "      <th>Close/Last</th>\n",
       "      <th>Volume</th>\n",
       "      <th>Open</th>\n",
       "      <th>High</th>\n",
       "      <th>Low</th>\n",
       "    </tr>\n",
       "    <tr>\n",
       "      <th>Date</th>\n",
       "      <th></th>\n",
       "      <th></th>\n",
       "      <th></th>\n",
       "      <th></th>\n",
       "      <th></th>\n",
       "    </tr>\n",
       "  </thead>\n",
       "  <tbody>\n",
       "    <tr>\n",
       "      <th>2021-06-09</th>\n",
       "      <td>598.78</td>\n",
       "      <td>16584570</td>\n",
       "      <td>602.170</td>\n",
       "      <td>611.79</td>\n",
       "      <td>597.6301</td>\n",
       "    </tr>\n",
       "    <tr>\n",
       "      <th>2021-06-08</th>\n",
       "      <td>603.59</td>\n",
       "      <td>26053410</td>\n",
       "      <td>623.010</td>\n",
       "      <td>623.09</td>\n",
       "      <td>595.5000</td>\n",
       "    </tr>\n",
       "    <tr>\n",
       "      <th>2021-06-07</th>\n",
       "      <td>605.13</td>\n",
       "      <td>22543680</td>\n",
       "      <td>591.825</td>\n",
       "      <td>610.00</td>\n",
       "      <td>582.8800</td>\n",
       "    </tr>\n",
       "    <tr>\n",
       "      <th>2021-06-04</th>\n",
       "      <td>599.05</td>\n",
       "      <td>24036900</td>\n",
       "      <td>579.710</td>\n",
       "      <td>600.61</td>\n",
       "      <td>577.2000</td>\n",
       "    </tr>\n",
       "    <tr>\n",
       "      <th>2021-06-03</th>\n",
       "      <td>572.84</td>\n",
       "      <td>30111890</td>\n",
       "      <td>601.800</td>\n",
       "      <td>604.55</td>\n",
       "      <td>571.2200</td>\n",
       "    </tr>\n",
       "  </tbody>\n",
       "</table>\n",
       "</div>"
      ],
      "text/plain": [
       "            Close/Last    Volume     Open    High       Low\n",
       "Date                                                       \n",
       "2021-06-09      598.78  16584570  602.170  611.79  597.6301\n",
       "2021-06-08      603.59  26053410  623.010  623.09  595.5000\n",
       "2021-06-07      605.13  22543680  591.825  610.00  582.8800\n",
       "2021-06-04      599.05  24036900  579.710  600.61  577.2000\n",
       "2021-06-03      572.84  30111890  601.800  604.55  571.2200"
      ]
     },
     "execution_count": 10,
     "metadata": {},
     "output_type": "execute_result"
    }
   ],
   "source": [
    "df['Low']=df['Low'].str.replace('$','').astype(float)\n",
    "df.head()"
   ]
  },
  {
   "cell_type": "code",
   "execution_count": 11,
   "metadata": {},
   "outputs": [
    {
     "data": {
      "text/html": [
       "<div>\n",
       "<style scoped>\n",
       "    .dataframe tbody tr th:only-of-type {\n",
       "        vertical-align: middle;\n",
       "    }\n",
       "\n",
       "    .dataframe tbody tr th {\n",
       "        vertical-align: top;\n",
       "    }\n",
       "\n",
       "    .dataframe thead th {\n",
       "        text-align: right;\n",
       "    }\n",
       "</style>\n",
       "<table border=\"1\" class=\"dataframe\">\n",
       "  <thead>\n",
       "    <tr style=\"text-align: right;\">\n",
       "      <th></th>\n",
       "      <th>Close/Last</th>\n",
       "      <th>Volume</th>\n",
       "      <th>Open</th>\n",
       "      <th>High</th>\n",
       "      <th>Low</th>\n",
       "    </tr>\n",
       "  </thead>\n",
       "  <tbody>\n",
       "    <tr>\n",
       "      <th>count</th>\n",
       "      <td>2516.000000</td>\n",
       "      <td>2.516000e+03</td>\n",
       "      <td>2516.000000</td>\n",
       "      <td>2516.000000</td>\n",
       "      <td>2516.000000</td>\n",
       "    </tr>\n",
       "    <tr>\n",
       "      <th>mean</th>\n",
       "      <td>94.310514</td>\n",
       "      <td>3.407957e+07</td>\n",
       "      <td>94.287201</td>\n",
       "      <td>96.488776</td>\n",
       "      <td>92.014969</td>\n",
       "    </tr>\n",
       "    <tr>\n",
       "      <th>std</th>\n",
       "      <td>162.504123</td>\n",
       "      <td>2.891964e+07</td>\n",
       "      <td>162.519434</td>\n",
       "      <td>166.806403</td>\n",
       "      <td>158.166102</td>\n",
       "    </tr>\n",
       "    <tr>\n",
       "      <th>min</th>\n",
       "      <td>4.390000</td>\n",
       "      <td>1.197975e+06</td>\n",
       "      <td>4.386000</td>\n",
       "      <td>4.622000</td>\n",
       "      <td>4.300000</td>\n",
       "    </tr>\n",
       "    <tr>\n",
       "      <th>25%</th>\n",
       "      <td>33.384000</td>\n",
       "      <td>1.573979e+07</td>\n",
       "      <td>33.667500</td>\n",
       "      <td>34.318000</td>\n",
       "      <td>32.628775</td>\n",
       "    </tr>\n",
       "    <tr>\n",
       "      <th>50%</th>\n",
       "      <td>47.038000</td>\n",
       "      <td>2.738053e+07</td>\n",
       "      <td>47.009000</td>\n",
       "      <td>47.798000</td>\n",
       "      <td>46.160000</td>\n",
       "    </tr>\n",
       "    <tr>\n",
       "      <th>75%</th>\n",
       "      <td>65.046000</td>\n",
       "      <td>4.280184e+07</td>\n",
       "      <td>64.774500</td>\n",
       "      <td>65.869500</td>\n",
       "      <td>63.638500</td>\n",
       "    </tr>\n",
       "    <tr>\n",
       "      <th>max</th>\n",
       "      <td>883.090000</td>\n",
       "      <td>3.046938e+08</td>\n",
       "      <td>891.380000</td>\n",
       "      <td>900.400000</td>\n",
       "      <td>871.600000</td>\n",
       "    </tr>\n",
       "  </tbody>\n",
       "</table>\n",
       "</div>"
      ],
      "text/plain": [
       "        Close/Last        Volume         Open         High          Low\n",
       "count  2516.000000  2.516000e+03  2516.000000  2516.000000  2516.000000\n",
       "mean     94.310514  3.407957e+07    94.287201    96.488776    92.014969\n",
       "std     162.504123  2.891964e+07   162.519434   166.806403   158.166102\n",
       "min       4.390000  1.197975e+06     4.386000     4.622000     4.300000\n",
       "25%      33.384000  1.573979e+07    33.667500    34.318000    32.628775\n",
       "50%      47.038000  2.738053e+07    47.009000    47.798000    46.160000\n",
       "75%      65.046000  4.280184e+07    64.774500    65.869500    63.638500\n",
       "max     883.090000  3.046938e+08   891.380000   900.400000   871.600000"
      ]
     },
     "execution_count": 11,
     "metadata": {},
     "output_type": "execute_result"
    }
   ],
   "source": [
    "df.describe()"
   ]
  },
  {
   "cell_type": "code",
   "execution_count": 12,
   "metadata": {},
   "outputs": [
    {
     "name": "stdout",
     "output_type": "stream",
     "text": [
      "2516\n"
     ]
    }
   ],
   "source": [
    "print(len(df))"
   ]
  },
  {
   "cell_type": "code",
   "execution_count": 13,
   "metadata": {},
   "outputs": [
    {
     "data": {
      "text/plain": [
       "<matplotlib.axes._subplots.AxesSubplot at 0x1fe1ccfe550>"
      ]
     },
     "execution_count": 13,
     "metadata": {},
     "output_type": "execute_result"
    },
    {
     "data": {
      "image/png": "[encoded data removed]",
      "text/plain": [
       "<Figure size 1152x432 with 1 Axes>"
      ]
     },
     "metadata": {
      "needs_background": "light"
     },
     "output_type": "display_data"
    }
   ],
   "source": [
    "df['Close/Last'].plot(figsize=(16,6))"
   ]
  },
  {
   "cell_type": "code",
   "execution_count": 14,
   "metadata": {},
   "outputs": [],
   "source": [
    "X  = df[['Open','High','Low','Volume']]\n",
    "y = df['Close/Last']"
   ]
  },
  {
   "cell_type": "code",
   "execution_count": 15,
   "metadata": {},
   "outputs": [],
   "source": [
    "from sklearn.model_selection import train_test_split\n",
    "X_train , X_test , y_train , y_test = train_test_split(X ,y , random_state = 0)"
   ]
  },
  {
   "cell_type": "code",
   "execution_count": 16,
   "metadata": {},
   "outputs": [
    {
     "data": {
      "text/plain": [
       "(1887, 4)"
      ]
     },
     "execution_count": 16,
     "metadata": {},
     "output_type": "execute_result"
    }
   ],
   "source": [
    "X_train.shape"
   ]
  },
  {
   "cell_type": "code",
   "execution_count": 17,
   "metadata": {},
   "outputs": [
    {
     "data": {
      "text/plain": [
       "(629, 4)"
      ]
     },
     "execution_count": 17,
     "metadata": {},
     "output_type": "execute_result"
    }
   ],
   "source": [
    "X_test.shape"
   ]
  },
  {
   "cell_type": "code",
   "execution_count": 18,
   "metadata": {},
   "outputs": [],
   "source": [
    "from sklearn.linear_model import LinearRegression\n",
    "from sklearn.metrics import confusion_matrix, accuracy_score\n",
    "import math\n",
    "regressor = LinearRegression()"
   ]
  },
  {
   "cell_type": "code",
   "execution_count": 19,
   "metadata": {},
   "outputs": [
    {
     "data": {
      "text/plain": [
       "LinearRegression()"
      ]
     },
     "execution_count": 19,
     "metadata": {},
     "output_type": "execute_result"
    }
   ],
   "source": [
    "regressor.fit(X_train,y_train)"
   ]
  },
  {
   "cell_type": "code",
   "execution_count": 20,
   "metadata": {},
   "outputs": [
    {
     "name": "stdout",
     "output_type": "stream",
     "text": [
      "[-2.84832691e-01  3.76159480e-01  9.22638824e-01  1.96666240e-08]\n"
     ]
    }
   ],
   "source": [
    "print(regressor.coef_)"
   ]
  },
  {
   "cell_type": "code",
   "execution_count": 21,
   "metadata": {},
   "outputs": [
    {
     "name": "stdout",
     "output_type": "stream",
     "text": [
      "-0.6938715806062419\n"
     ]
    }
   ],
   "source": [
    "print(regressor.intercept_)"
   ]
  },
  {
   "cell_type": "code",
   "execution_count": 22,
   "metadata": {},
   "outputs": [
    {
     "name": "stdout",
     "output_type": "stream",
     "text": [
      "              Open     High     Low    Volume\n",
      "Date                                         \n",
      "2018-02-06  65.042  67.2440  64.700  25400160\n",
      "2016-06-01  44.296  44.4800  43.378  14911350\n",
      "2019-02-27  60.356  63.2590  60.110  55720500\n",
      "2017-09-07  69.196  70.4960  68.690  21175225\n",
      "2012-05-23   6.112   6.2100   5.900   6101745\n",
      "...            ...      ...     ...       ...\n",
      "2018-08-21  62.122  64.9580  61.800  65738850\n",
      "2016-04-18  50.446  51.6620  50.332  21316230\n",
      "2017-01-24  50.000  50.9600  49.930  24790720\n",
      "2015-10-29  42.350  42.7496  42.128   8973715\n",
      "2014-09-11  56.092  56.9580  55.726  18808085\n",
      "\n",
      "[629 rows x 4 columns]\n"
     ]
    }
   ],
   "source": [
    "predicted=regressor.predict(X_test)\n",
    "print(X_test)"
   ]
  },
  {
   "cell_type": "code",
   "execution_count": 23,
   "metadata": {},
   "outputs": [
    {
     "data": {
      "text/plain": [
       "(629,)"
      ]
     },
     "execution_count": 23,
     "metadata": {},
     "output_type": "execute_result"
    }
   ],
   "source": [
    "predicted.shape"
   ]
  },
  {
   "cell_type": "code",
   "execution_count": 24,
   "metadata": {},
   "outputs": [],
   "source": [
    "dframe=pd.DataFrame(y_test,predicted)"
   ]
  },
  {
   "cell_type": "code",
   "execution_count": 25,
   "metadata": {},
   "outputs": [],
   "source": [
    "dfr=pd.DataFrame({'Actual':y_test,'Predicted':predicted})"
   ]
  },
  {
   "cell_type": "code",
   "execution_count": 26,
   "metadata": {},
   "outputs": [
    {
     "name": "stdout",
     "output_type": "stream",
     "text": [
      "            Actual  Predicted\n",
      "Date                         \n",
      "2018-02-06  66.794  66.268776\n",
      "2016-06-01  43.912  43.736236\n",
      "2019-02-27  62.948  62.465893\n",
      "2017-09-07  70.122  69.907090\n",
      "2012-05-23   6.204   5.464751\n",
      "...            ...        ...\n",
      "2018-08-21  64.380  64.358260\n",
      "2016-04-18  50.776  51.228085\n",
      "2017-01-24  50.922  50.788487\n",
      "2015-10-29  42.326  42.369542\n",
      "2014-09-11  56.062  56.539447\n",
      "\n",
      "[629 rows x 2 columns]\n"
     ]
    }
   ],
   "source": [
    "print(dfr)"
   ]
  },
  {
   "cell_type": "code",
   "execution_count": 27,
   "metadata": {},
   "outputs": [
    {
     "data": {
      "text/html": [
       "<div>\n",
       "<style scoped>\n",
       "    .dataframe tbody tr th:only-of-type {\n",
       "        vertical-align: middle;\n",
       "    }\n",
       "\n",
       "    .dataframe tbody tr th {\n",
       "        vertical-align: top;\n",
       "    }\n",
       "\n",
       "    .dataframe thead th {\n",
       "        text-align: right;\n",
       "    }\n",
       "</style>\n",
       "<table border=\"1\" class=\"dataframe\">\n",
       "  <thead>\n",
       "    <tr style=\"text-align: right;\">\n",
       "      <th></th>\n",
       "      <th>Actual</th>\n",
       "      <th>Predicted</th>\n",
       "    </tr>\n",
       "    <tr>\n",
       "      <th>Date</th>\n",
       "      <th></th>\n",
       "      <th></th>\n",
       "    </tr>\n",
       "  </thead>\n",
       "  <tbody>\n",
       "    <tr>\n",
       "      <th>2018-02-06</th>\n",
       "      <td>66.7940</td>\n",
       "      <td>66.268776</td>\n",
       "    </tr>\n",
       "    <tr>\n",
       "      <th>2016-06-01</th>\n",
       "      <td>43.9120</td>\n",
       "      <td>43.736236</td>\n",
       "    </tr>\n",
       "    <tr>\n",
       "      <th>2019-02-27</th>\n",
       "      <td>62.9480</td>\n",
       "      <td>62.465893</td>\n",
       "    </tr>\n",
       "    <tr>\n",
       "      <th>2017-09-07</th>\n",
       "      <td>70.1220</td>\n",
       "      <td>69.907090</td>\n",
       "    </tr>\n",
       "    <tr>\n",
       "      <th>2012-05-23</th>\n",
       "      <td>6.2040</td>\n",
       "      <td>5.464751</td>\n",
       "    </tr>\n",
       "    <tr>\n",
       "      <th>2017-10-06</th>\n",
       "      <td>71.3760</td>\n",
       "      <td>71.702244</td>\n",
       "    </tr>\n",
       "    <tr>\n",
       "      <th>2017-11-20</th>\n",
       "      <td>61.7480</td>\n",
       "      <td>62.211542</td>\n",
       "    </tr>\n",
       "    <tr>\n",
       "      <th>2013-12-31</th>\n",
       "      <td>30.0858</td>\n",
       "      <td>30.005729</td>\n",
       "    </tr>\n",
       "    <tr>\n",
       "      <th>2015-03-30</th>\n",
       "      <td>38.1140</td>\n",
       "      <td>37.718835</td>\n",
       "    </tr>\n",
       "    <tr>\n",
       "      <th>2015-01-15</th>\n",
       "      <td>38.3740</td>\n",
       "      <td>38.525427</td>\n",
       "    </tr>\n",
       "    <tr>\n",
       "      <th>2020-02-24</th>\n",
       "      <td>166.7580</td>\n",
       "      <td>169.686566</td>\n",
       "    </tr>\n",
       "    <tr>\n",
       "      <th>2017-05-26</th>\n",
       "      <td>65.0280</td>\n",
       "      <td>64.853303</td>\n",
       "    </tr>\n",
       "    <tr>\n",
       "      <th>2021-03-24</th>\n",
       "      <td>630.2700</td>\n",
       "      <td>642.374168</td>\n",
       "    </tr>\n",
       "    <tr>\n",
       "      <th>2019-09-16</th>\n",
       "      <td>48.5620</td>\n",
       "      <td>48.874478</td>\n",
       "    </tr>\n",
       "    <tr>\n",
       "      <th>2019-03-22</th>\n",
       "      <td>52.9060</td>\n",
       "      <td>53.874437</td>\n",
       "    </tr>\n",
       "    <tr>\n",
       "      <th>2020-03-03</th>\n",
       "      <td>149.1020</td>\n",
       "      <td>148.836392</td>\n",
       "    </tr>\n",
       "    <tr>\n",
       "      <th>2014-07-03</th>\n",
       "      <td>45.8500</td>\n",
       "      <td>45.418780</td>\n",
       "    </tr>\n",
       "    <tr>\n",
       "      <th>2018-12-21</th>\n",
       "      <td>63.9540</td>\n",
       "      <td>64.000457</td>\n",
       "    </tr>\n",
       "    <tr>\n",
       "      <th>2014-07-15</th>\n",
       "      <td>43.9160</td>\n",
       "      <td>44.324087</td>\n",
       "    </tr>\n",
       "    <tr>\n",
       "      <th>2016-12-30</th>\n",
       "      <td>42.7380</td>\n",
       "      <td>42.864433</td>\n",
       "    </tr>\n",
       "    <tr>\n",
       "      <th>2017-04-07</th>\n",
       "      <td>60.5080</td>\n",
       "      <td>60.412002</td>\n",
       "    </tr>\n",
       "    <tr>\n",
       "      <th>2014-06-13</th>\n",
       "      <td>41.2840</td>\n",
       "      <td>40.743529</td>\n",
       "    </tr>\n",
       "    <tr>\n",
       "      <th>2013-05-10</th>\n",
       "      <td>15.3528</td>\n",
       "      <td>16.676153</td>\n",
       "    </tr>\n",
       "    <tr>\n",
       "      <th>2015-12-02</th>\n",
       "      <td>46.3980</td>\n",
       "      <td>46.716840</td>\n",
       "    </tr>\n",
       "    <tr>\n",
       "      <th>2018-08-27</th>\n",
       "      <td>63.8540</td>\n",
       "      <td>63.716676</td>\n",
       "    </tr>\n",
       "  </tbody>\n",
       "</table>\n",
       "</div>"
      ],
      "text/plain": [
       "              Actual   Predicted\n",
       "Date                            \n",
       "2018-02-06   66.7940   66.268776\n",
       "2016-06-01   43.9120   43.736236\n",
       "2019-02-27   62.9480   62.465893\n",
       "2017-09-07   70.1220   69.907090\n",
       "2012-05-23    6.2040    5.464751\n",
       "2017-10-06   71.3760   71.702244\n",
       "2017-11-20   61.7480   62.211542\n",
       "2013-12-31   30.0858   30.005729\n",
       "2015-03-30   38.1140   37.718835\n",
       "2015-01-15   38.3740   38.525427\n",
       "2020-02-24  166.7580  169.686566\n",
       "2017-05-26   65.0280   64.853303\n",
       "2021-03-24  630.2700  642.374168\n",
       "2019-09-16   48.5620   48.874478\n",
       "2019-03-22   52.9060   53.874437\n",
       "2020-03-03  149.1020  148.836392\n",
       "2014-07-03   45.8500   45.418780\n",
       "2018-12-21   63.9540   64.000457\n",
       "2014-07-15   43.9160   44.324087\n",
       "2016-12-30   42.7380   42.864433\n",
       "2017-04-07   60.5080   60.412002\n",
       "2014-06-13   41.2840   40.743529\n",
       "2013-05-10   15.3528   16.676153\n",
       "2015-12-02   46.3980   46.716840\n",
       "2018-08-27   63.8540   63.716676"
      ]
     },
     "execution_count": 27,
     "metadata": {},
     "output_type": "execute_result"
    }
   ],
   "source": [
    "dfr.head(25)"
   ]
  },
  {
   "cell_type": "code",
   "execution_count": 28,
   "metadata": {},
   "outputs": [
    {
     "name": "stdout",
     "output_type": "stream",
     "text": [
      "Results of Linear Regression:\n",
      "\n",
      "Mean Absolute Error: 1.3619558530930744\n",
      "Mean Squared Error: 16.114254427483925\n",
      "Root Mean Squared Error: 4.01425639782562\n"
     ]
    }
   ],
   "source": [
    "from sklearn import metrics \n",
    "print('Results of Linear Regression:\\n')\n",
    "print('Mean Absolute Error:',metrics.mean_absolute_error(y_test,predicted))\n",
    "print('Mean Squared Error:',metrics.mean_squared_error(y_test,predicted))\n",
    "print('Root Mean Squared Error:',math.sqrt(metrics.mean_squared_error(y_test,predicted)))"
   ]
  },
  {
   "cell_type": "code",
   "execution_count": 29,
   "metadata": {},
   "outputs": [
    {
     "data": {
      "text/plain": [
       "99.93479965787955"
      ]
     },
     "execution_count": 29,
     "metadata": {},
     "output_type": "execute_result"
    }
   ],
   "source": [
    "regressor.score(X_test,y_test)*100"
   ]
  },
  {
   "cell_type": "code",
   "execution_count": 30,
   "metadata": {},
   "outputs": [],
   "source": [
    "graph=dfr.head(20)"
   ]
  },
  {
   "cell_type": "code",
   "execution_count": 31,
   "metadata": {},
   "outputs": [
    {
     "data": {
      "text/plain": [
       "<matplotlib.axes._subplots.AxesSubplot at 0x1fe1d667550>"
      ]
     },
     "execution_count": 31,
     "metadata": {},
     "output_type": "execute_result"
    },
    {
     "data": {
      "image/png": "[encoded data removed]",
      "text/plain": [
       "<Figure size 1152x432 with 1 Axes>"
      ]
     },
     "metadata": {
      "needs_background": "light"
     },
     "output_type": "display_data"
    },
    {
     "data": {
      "image/png": "[encoded data removed]",
      "text/plain": [
       "<Figure size 432x288 with 1 Axes>"
      ]
     },
     "metadata": {
      "needs_background": "light"
     },
     "output_type": "display_data"
    }
   ],
   "source": [
    "graph.plot(figsize=(16,6))\n",
    "graph.plot(kind='bar')\n"
   ]
  }
 ],
 "metadata": {
  "kernelspec": {
   "display_name": "Python 3",
   "language": "python",
   "name": "python3"
  },
  "language_info": {
   "codemirror_mode": {
    "name": "ipython",
    "version": 3
   },
   "file_extension": ".py",
   "mimetype": "text/x-python",
   "name": "python",
   "nbconvert_exporter": "python",
   "pygments_lexer": "ipython3",
   "version": "3.8.3"
  }
 },
 "nbformat": 4,
 "nbformat_minor": 4
}
